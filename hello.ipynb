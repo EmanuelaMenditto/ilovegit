{
 "cells": [
  {
   "cell_type": "code",
   "execution_count": 2,
   "id": "5aaafdb2-0588-487d-b4e2-2b3942880c9d",
   "metadata": {},
   "outputs": [],
   "source": [
    "!git config --global user.email \"e.menditto@campus.unimib.it\"\n",
    "!git config --global user.name \"Emanuela\""
   ]
  },
  {
   "cell_type": "code",
   "execution_count": 3,
   "id": "acc38f6e-0581-4206-b967-366434d89944",
   "metadata": {},
   "outputs": [],
   "source": [
    "!git config --global core.autocrlf input"
   ]
  },
  {
   "cell_type": "code",
   "execution_count": 4,
   "id": "3d5c26e6-715e-4630-b9ce-5341e9d2d497",
   "metadata": {},
   "outputs": [
    {
     "name": "stdout",
     "output_type": "stream",
     "text": [
      "4\n"
     ]
    }
   ],
   "source": [
    "x = 2+2\n",
    "print(x)"
   ]
  },
  {
   "cell_type": "code",
   "execution_count": 5,
   "id": "be4317f7-1f74-4bbb-a248-f567fe786b1d",
   "metadata": {},
   "outputs": [
    {
     "name": "stdout",
     "output_type": "stream",
     "text": [
      "hello world!\n"
     ]
    }
   ],
   "source": [
    "print(\"hello world!\")"
   ]
  },
  {
   "cell_type": "code",
   "execution_count": 6,
   "id": "de17c12f-0912-41d3-bafe-0da51456664f",
   "metadata": {},
   "outputs": [
    {
     "name": "stdout",
     "output_type": "stream",
     "text": [
      "256\n"
     ]
    }
   ],
   "source": [
    "y = x**x\n",
    "print(y)"
   ]
  },
  {
   "cell_type": "code",
   "execution_count": 7,
   "id": "4ecbd6c7-6635-4b8e-8858-ce655a8a3f6c",
   "metadata": {},
   "outputs": [
    {
     "name": "stdout",
     "output_type": "stream",
     "text": [
      "768\n"
     ]
    }
   ],
   "source": [
    "z = 3*y\n",
    "print(z)"
   ]
  },
  {
   "cell_type": "code",
   "execution_count": null,
   "id": "5c03a082-d15e-4303-b2ba-21f5306f80df",
   "metadata": {},
   "outputs": [],
   "source": []
  }
 ],
 "metadata": {
  "kernelspec": {
   "display_name": "Python 3 (ipykernel)",
   "language": "python",
   "name": "python3"
  },
  "language_info": {
   "codemirror_mode": {
    "name": "ipython",
    "version": 3
   },
   "file_extension": ".py",
   "mimetype": "text/x-python",
   "name": "python",
   "nbconvert_exporter": "python",
   "pygments_lexer": "ipython3",
   "version": "3.11.7"
  }
 },
 "nbformat": 4,
 "nbformat_minor": 5
}
